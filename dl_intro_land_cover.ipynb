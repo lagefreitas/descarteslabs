{
 "cells": [
  {
   "cell_type": "markdown",
   "metadata": {},
   "source": [
    "Link to tutorial: [https://docs.descarteslabs.com/docs/tutorials/land_cover_demo.html](https://docs.descarteslabs.com/docs/tutorials/land_cover_demo.html)\n",
    "\n",
    "# Intro to Land Cover with the Descartes Labs Platform\n",
    "\n"
   ]
  },
  {
   "cell_type": "code",
   "execution_count": 1,
   "metadata": {},
   "outputs": [],
   "source": [
    "import os\n",
    "import warnings\n",
    "from pprint import pprint\n",
    "#alage: import pprint\n",
    "# Instead of using the `descarteslabs login` command, you can manually set the token information.\n",
    "# Probably not wise to then share this notebooks with others.\n",
    "os.environ['CLIENT_ID'] = 'TODO'\n",
    "os.environ['CLIENT_SECRET'] = 'TODO'\n",
    "\n",
    "from __future__ import print_function\n",
    "\n",
    "import descarteslabs as dl\n",
    "\n",
    "%matplotlib inline\n",
    "import matplotlib.pyplot as plt\n",
    "import shapely.geometry\n",
    "import cartopy\n",
    "import numpy as np\n",
    "import pyproj\n",
    "\n",
    "\n",
    "reference_points = { \"type\": \"FeatureCollection\",\n",
    "\n",
    "                     \"crs\": { \"type\": \"name\",\n",
    "                              \"properties\": { \"name\": \"urn:ogc:def:crs:OGC:1.3:CRS84\"} },\n",
    "\n",
    "                     \"features\": [\n",
    "\n",
    "                        { \"type\": \"Feature\",\n",
    "                           \"id\": 14348,\n",
    "                           \"properties\": {\n",
    "                                \"descript\": \"Cultivated Crops\",\n",
    "                                \"created\": \"2016-3\",\n",
    "                                \"lc_code\": 1,\n",
    "                                \"dataset\": \"GFSAD30\" },\n",
    "                          \"geometry\": { \"type\": \"Point\",\n",
    "                                       \"coordinates\": [ -57.864114, -13.458213 ] }},\n",
    "\n",
    "                    { \"type\": \"Feature\",\n",
    "                           \"id\": 30895,\n",
    "                           \"properties\": {\n",
    "                                \"descript\": \"Forest\",\n",
    "                                \"created\": \"2016-0\",\n",
    "                                \"lc_code\": 2,\n",
    "                                \"dataset\": \"GFSAD30\" },\n",
    "                          \"geometry\": { \"type\": \"Point\",\n",
    "                                       \"coordinates\": [ -57.345734, -12.748814 ] }}\n",
    "\n",
    "                                ]\n",
    "                   }\n",
    "\n"
   ]
  },
  {
   "cell_type": "code",
   "execution_count": 2,
   "metadata": {},
   "outputs": [
    {
     "data": {
      "image/png": "[encoded data removed]",
      "text/plain": [
       "<matplotlib.figure.Figure at 0x7f0299fe37f0>"
      ]
     },
     "metadata": {},
     "output_type": "display_data"
    }
   ],
   "source": [
    "# Get attribute data for the point\n",
    "point = reference_points['features'][0]\n",
    "lon = point['geometry']['coordinates'][0]\n",
    "lat = point['geometry']['coordinates'][1]\n",
    "year = point['properties']['created'][:4]\n",
    "\n",
    "# calculate the UTM zone using longitude\n",
    "zone = int((lon + 180) / 6.0) + 1\n",
    "\n",
    "# construct a tile around the centroid\n",
    "# with 833x833 valid image pixels\n",
    "# with 16 pixels of padding around each grid cell\n",
    "# and grid spatial resolution of 120m\n",
    "valid_pix = 833\n",
    "padding = 0\n",
    "grid_size = valid_pix + padding\n",
    "res = 120.0\n",
    "dltile = dl.raster.dltile_from_latlon(lat, lon, res, valid_pix, padding)\n",
    "\n",
    "\n",
    "# Let's visualize the state and the dltile.\n",
    "\n",
    "# load the lat/lon and utm projections\n",
    "lonlat_crs = cartopy.crs.PlateCarree()\n",
    "utm = cartopy.crs.UTM(zone, southern_hemisphere=True)\n",
    "\n",
    "# Let's get the geometry for Mato Grosso for visualization\n",
    "mato_grosso = dl.places.shape('south-america_brazil_mato-grosso')\n",
    "\n",
    "# Plot Mato Grosso and the image tile containing the reference point\n",
    "fig = plt.figure(figsize=(6, 6))\n",
    "ax = plt.subplot(projection=utm) # Specify projection of the map here\n",
    "shp = shapely.geometry.shape(mato_grosso['geometry'])\n",
    "shp2 = shapely.geometry.shape(dltile['geometry'])\n",
    "\n",
    "# Add geometry with lat/long, specifying the latlon projection\n",
    "ax.add_geometries([shp], lonlat_crs, color='#bece96')\n",
    "ax.add_geometries([shp2], lonlat_crs, color='#2e89f7', edgecolor='k', hatch='//')\n",
    "\n",
    "# Set extents in latlon, specifying the latlon projection\n",
    "bbox = mato_grosso['bbox']\n",
    "ax.set_extent((bbox[0], bbox[2], bbox[1], bbox[3]), crs=lonlat_crs)\n",
    "ax.gridlines(crs=lonlat_crs)\n",
    "plt.show()\n",
    "\n"
   ]
  },
  {
   "cell_type": "code",
   "execution_count": 3,
   "metadata": {},
   "outputs": [
    {
     "name": "stdout",
     "output_type": "stream",
     "text": [
      "Number of image matches: 468\n"
     ]
    }
   ],
   "source": [
    "# use products, start_time, end_time, geom, and cloud_fraction\n",
    "# parameters to limit our imagery search to\n",
    "\n",
    "images = dl.metadata.search(\n",
    "                                products=[\"modis:09:CREFL\"],\n",
    "                                start_time='2016-01-01',\n",
    "                                end_time='2016-12-31',\n",
    "                                geom=dltile['geometry'],\n",
    "                                cloud_fraction=0.9,\n",
    "                                limit = 1000\n",
    "                                )\n",
    "\n",
    "\n",
    "n_images = len(images['features'])\n",
    "print('Number of image matches: %d' % n_images)\n"
   ]
  },
  {
   "cell_type": "code",
   "execution_count": 4,
   "metadata": {},
   "outputs": [
    {
     "ename": "AttributeError",
     "evalue": "'Raster' object has no attribute 'get_bands_by_constellation'",
     "output_type": "error",
     "traceback": [
      "\u001b[0;31m---------------------------------------------------------------------------\u001b[0m",
      "\u001b[0;31mAttributeError\u001b[0m                            Traceback (most recent call last)",
      "\u001b[0;32m<ipython-input-4-68a1d33d749d>\u001b[0m in \u001b[0;36m<module>\u001b[0;34m()\u001b[0m\n\u001b[1;32m      1\u001b[0m \u001b[0;31m# let's see which bands are available from both sensors\u001b[0m\u001b[0;34m\u001b[0m\u001b[0;34m\u001b[0m\u001b[0m\n\u001b[1;32m      2\u001b[0m \u001b[0;34m\u001b[0m\u001b[0m\n\u001b[0;32m----> 3\u001b[0;31m \u001b[0mmo\u001b[0m \u001b[0;34m=\u001b[0m \u001b[0mdl\u001b[0m\u001b[0;34m.\u001b[0m\u001b[0mraster\u001b[0m\u001b[0;34m.\u001b[0m\u001b[0mget_bands_by_constellation\u001b[0m\u001b[0;34m(\u001b[0m\u001b[0;34m\"MO\"\u001b[0m\u001b[0;34m)\u001b[0m\u001b[0;34m.\u001b[0m\u001b[0mkeys\u001b[0m\u001b[0;34m(\u001b[0m\u001b[0;34m)\u001b[0m\u001b[0;34m\u001b[0m\u001b[0m\n\u001b[0m\u001b[1;32m      4\u001b[0m \u001b[0mmy\u001b[0m \u001b[0;34m=\u001b[0m \u001b[0mdl\u001b[0m\u001b[0;34m.\u001b[0m\u001b[0mraster\u001b[0m\u001b[0;34m.\u001b[0m\u001b[0mget_bands_by_constellation\u001b[0m\u001b[0;34m(\u001b[0m\u001b[0;34m\"MY\"\u001b[0m\u001b[0;34m)\u001b[0m\u001b[0;34m.\u001b[0m\u001b[0mkeys\u001b[0m\u001b[0;34m(\u001b[0m\u001b[0;34m)\u001b[0m\u001b[0;34m\u001b[0m\u001b[0m\n\u001b[1;32m      5\u001b[0m \u001b[0mavail_bands\u001b[0m \u001b[0;34m=\u001b[0m \u001b[0mset\u001b[0m\u001b[0;34m(\u001b[0m\u001b[0mmo\u001b[0m\u001b[0;34m)\u001b[0m\u001b[0;34m.\u001b[0m\u001b[0mintersection\u001b[0m\u001b[0;34m(\u001b[0m\u001b[0mmy\u001b[0m\u001b[0;34m)\u001b[0m\u001b[0;34m\u001b[0m\u001b[0m\n",
      "\u001b[0;31mAttributeError\u001b[0m: 'Raster' object has no attribute 'get_bands_by_constellation'"
     ]
    }
   ],
   "source": [
    "# let's see which bands are available from both sensors\n",
    "\n",
    "mo = dl.raster.get_bands_by_constellation(\"MO\").keys()\n",
    "my = dl.raster.get_bands_by_constellation(\"MY\").keys()\n",
    "avail_bands = set(mo).intersection(my)\n",
    "print('Available bands: %s' % ', '.join([a for a in avail_bands]))\n"
   ]
  },
  {
   "cell_type": "code",
   "execution_count": null,
   "metadata": {},
   "outputs": [],
   "source": []
  }
 ],
 "metadata": {
  "kernelspec": {
   "display_name": "Python 3",
   "language": "python",
   "name": "python3"
  },
  "language_info": {
   "codemirror_mode": {
    "name": "ipython",
    "version": 3
   },
   "file_extension": ".py",
   "mimetype": "text/x-python",
   "name": "python",
   "nbconvert_exporter": "python",
   "pygments_lexer": "ipython3",
   "version": "3.6.5"
  }
 },
 "nbformat": 4,
 "nbformat_minor": 2
}
