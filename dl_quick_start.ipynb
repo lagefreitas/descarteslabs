{
 "cells": [
  {
   "cell_type": "markdown",
   "metadata": {},
   "source": [
    "# Find a place, search for imagery, and rasterize it.\n",
    "\n"
   ]
  },
  {
   "cell_type": "code",
   "execution_count": 3,
   "metadata": {},
   "outputs": [
    {
     "name": "stdout",
     "output_type": "stream",
     "text": [
      "[\n",
      "  {\n",
      "    'bbox': [-106.058364, 36.013014, -105.200117, 36.995841],\n",
      "    'id': 102081181,\n",
      "    'name': 'Taos',\n",
      "    'path': 'continent:north-america_country:united-sta...n:new-mexico_district:northwest_county:taos',\n",
      "    'placetype': 'county',\n",
      "    'slug': 'north-america_united-states_new-mexico_northwest_taos'\n",
      "  }\n",
      "]\n"
     ]
    },
    {
     "data": {
      "image/png": "[encoded data removed]",
      "text/plain": [
       "<matplotlib.figure.Figure at 0x7f3373fb6518>"
      ]
     },
     "metadata": {},
     "output_type": "display_data"
    }
   ],
   "source": [
    "import os\n",
    "import warnings\n",
    "from pprint import pprint\n",
    "#alage: import pprint\n",
    "# Instead of using the `descarteslabs login` command, you can manually set the token information.\n",
    "# Probably not wise to then share this notebooks with others.\n",
    "os.environ['CLIENT_ID'] = 'TODO'\n",
    "os.environ['CLIENT_SECRET'] = 'TODO'\n",
    "\n",
    "import descarteslabs as dl\n",
    "\n",
    "# Find potential matches\n",
    "matches = dl.places.find('new-mexico_taos')\n",
    "pprint(matches)\n",
    "# The first one looks good to me, so lets make that our area of interest.\n",
    "aoi = matches[0]\n",
    "\n",
    "[{u'bbox': [-106.058364, 36.013014, -105.200117, 36.995841],\n",
    "  u'id': 102081181,\n",
    "  u'name': u'Taos',\n",
    "  u'path': u'continent:north-america_country:united-states_region:new-mexico_district:northwest_county:taos',\n",
    "  u'placetype': u'county',\n",
    "  u'slug': u'north-america_united-states_new-mexico_northwest_taos'}]\n",
    "\n",
    "# This area of interest just gives us some basic properties such as bounding boxes.\n",
    "# To access a GeoJSON Geometry object of that place, we call the `Places.shape` method, in this case\n",
    "# accessing a low-resolution version of this particular shape.\n",
    "shape = dl.places.shape(aoi['slug'], geom='low')\n",
    "\n",
    "# If you'd like, load up some libraries like matplotlib, shapley, and cartopy,\n",
    "# and use them to plot Taos county.\n",
    "#%matplotlib inline\n",
    "%matplotlib inline\n",
    "import matplotlib.pyplot as plt\n",
    "import shapely.geometry\n",
    "import cartopy\n",
    "\n",
    "#alage: if get an error here in shape, uninstall and install numpy\n",
    "bbox = shape['bbox']\n",
    "\n",
    "# Lets load up the Albers Equal Area projection.\n",
    "lonlat_crs = cartopy.crs.PlateCarree()\n",
    "albers = cartopy.crs.AlbersEqualArea(central_latitude=36.0, central_longitude=-105)\n",
    "\n",
    "fig = plt.figure(figsize=(4, 8))\n",
    "ax = plt.subplot(projection=albers) # Specify projection of the map here\n",
    "shp = shapely.geometry.shape(shape['geometry'])\n",
    "\n",
    "# When adding a geometry in latlon coordinates, specify the latlon projection\n",
    "ax.add_geometries([shp], lonlat_crs)\n",
    "\n",
    "# You can set extents in latlon, as long as you specify the projection with `crs`\n",
    "ax.set_extent((bbox[0], bbox[2], bbox[1], bbox[3]), crs=lonlat_crs)\n",
    "ax.gridlines(crs=lonlat_crs)\n",
    "plt.show()\n",
    "\n"
   ]
  },
  {
   "cell_type": "markdown",
   "metadata": {},
   "source": [
    "# Searching for available imagery"
   ]
  },
  {
   "cell_type": "code",
   "execution_count": 6,
   "metadata": {},
   "outputs": [
    {
     "name": "stderr",
     "output_type": "stream",
     "text": [
      "/opt/conda/lib/python3.6/site-packages/descarteslabs/client/services/metadata/metadata.py:76: DeprecationWarning: Metadata.sources() has been deprecated and will be removed in future versions of the library. Please use Metadata.available_products() or Metadata.products() instead. \n",
      "  warn(SOURCES_DEPRECATION_MESSAGE, DeprecationWarning)\n"
     ]
    },
    {
     "name": "stdout",
     "output_type": "stream",
     "text": [
      "[\n",
      "  {\n",
      "    'product': 'modis:09:CREFL',\n",
      "    'sat_id': 'Terra'\n",
      "  },\n",
      "  {\n",
      "    'product': 'modis:09:CREFL',\n",
      "    'sat_id': 'Aqua'\n",
      "  },\n",
      "  {\n",
      "    'product': 'sentinel-2:L1C',\n",
      "    'sat_id': 'S2A'\n",
      "  },\n",
      "  {\n",
      "    'product': 'sentinel-2:L1C',\n",
      "    'sat_id': 'S2B'\n",
      "  },\n",
      "  {\n",
      "    'product': 'landsat:LE07:PRE:TOAR',\n",
      "    'sat_id': 'LANDSAT_7'\n",
      "  },\n",
      "  {\n",
      "    'product': 'landsat:LE07:PRE:TOAR',\n",
      "    'sat_id': 'Landsat7'\n",
      "  },\n",
      "  {\n",
      "    'product': 'landsat:LT05:PRE:TOAR',\n",
      "    'sat_id': 'LANDSAT_5'\n",
      "  },\n",
      "  {\n",
      "    'product': 'landsat:LT05:PRE:TOAR',\n",
      "    'sat_id': 'Landsat5'\n",
      "  },\n",
      "  {\n",
      "    'product': 'sentinel-3:OLCI_RGB',\n",
      "    'sat_id': 'S3A'\n",
      "  },\n",
      "  {\n",
      "    'product': 'landsat:LC08:PRE:TOAR',\n",
      "    'sat_id': 'LANDSAT_8'\n",
      "  },\n",
      "  {\n",
      "    'product': 'sentinel-1:GRD',\n",
      "    'sat_id': 'SENTINEL-1A'\n",
      "  },\n",
      "  {\n",
      "    'product': 'sentinel-1:GRD',\n",
      "    'sat_id': 'SENTINEL-1B'\n",
      "  },\n",
      "  {\n",
      "    'product': 'usda:naip:rgbn',\n",
      "    'sat_id': 'NAIP'\n",
      "  },\n",
      "  {\n",
      "    'product': 'usda:naip:rgbn:v1',\n",
      "    'sat_id': 'NAIP'\n",
      "  },\n",
      "  {\n",
      "    'product': 'landsat:LC08:PRE:LaSRC',\n",
      "    'sat_id': 'L8SR'\n",
      "  },\n",
      "  {\n",
      "    'product': 'landsat:LC08:01:RT:TOAR',\n",
      "    'sat_id': 'LANDSAT_8'\n",
      "  },\n",
      "  {\n",
      "    'product': 'landsat:LE07:01:RT:TOAR',\n",
      "    'sat_id': 'LANDSAT_7'\n",
      "  },\n",
      "  {\n",
      "    'product': 'landsat:LC08:01:T1:TOAR',\n",
      "    'sat_id': 'LANDSAT_8'\n",
      "  },\n",
      "  {\n",
      "    'product': 'landsat:LE07:01:T1:TOAR',\n",
      "    'sat_id': 'LANDSAT_7'\n",
      "  },\n",
      "  {\n",
      "    'product': 'landsat:LC08:01:T2:TOAR',\n",
      "    'sat_id': 'LANDSAT_8'\n",
      "  },\n",
      "  {\n",
      "    'product': 'srtm:GL1003',\n",
      "    'sat_id': 'srtm'\n",
      "  },\n",
      "  {\n",
      "    'product': 'landsat:LE07:01:T2:TOAR',\n",
      "    'sat_id': 'LANDSAT_7'\n",
      "  },\n",
      "  {\n",
      "    'product': 'landsat:LT04:PRE:TOAR',\n",
      "    'sat_id': 'Landsat4'\n",
      "  },\n",
      "  {\n",
      "    'product': 'landsat:LT04:PRE:TOAR',\n",
      "    'sat_id': 'LANDSAT_4'\n",
      "  },\n",
      "  {\n",
      "    'product': 'texas-orthoimagery:v0',\n",
      "    'sat_id': 'TOP50'\n",
      "  },\n",
      "  {\n",
      "    'product': 'usda:cdl',\n",
      "    'sat_id': 'CDL'\n",
      "  }\n",
      "]\n"
     ]
    },
    {
     "data": {
      "text/plain": [
       "[{'product': 'modis:09:CREFL', 'sat_id': 'Terra'},\n",
       " {'product': 'modis:09:CREFL', 'sat_id': 'Aqua'},\n",
       " {'product': 'landsat:LE07:PRE:TOAR', 'sat_id': 'LANDSAT_7'},\n",
       " {'product': 'landsat:LE07:PRE:TOAR', 'sat_id': 'Landsat7'},\n",
       " {'product': 'sentinel-2:L1C', 'sat_id': 'S2A'},\n",
       " {'product': 'landsat:LT05:PRE:TOAR', 'sat_id': 'LANDSAT_5'},\n",
       " {'product': 'landsat:LT05:PRE:TOAR', 'sat_id': 'Landsat5'},\n",
       " {'product': 'sentinel-3:OLCI_RGB', 'sat_id': 'S3A'},\n",
       " {'product': 'landsat:LC08:PRE:TOAR', 'sat_id': 'LANDSAT_8'},\n",
       " {'product': 'usda:naip:rgbn', 'sat_id': 'NAIP'},\n",
       " {'product': 'landsat:LC08:PRE:LaSRC', 'sat_id': 'L8SR'},\n",
       " {'product': 'sentinel-1:GRD', 'sat_id': 'SENTINEL-1A'},\n",
       " {'product': 'sentinel-1:GRD', 'sat_id': 'SENTINEL-1B'},\n",
       " {'product': 'srtm:GL1003', 'sat_id': 'srtm'},\n",
       " {'product': 'landsat:LT04:PRE:TOAR', 'sat_id': 'Landsat4'},\n",
       " {'product': 'landsat:LT04:PRE:TOAR', 'sat_id': 'LANDSAT_4'},\n",
       " {'product': 'usda:cdl', 'sat_id': 'CDL'}]"
      ]
     },
     "execution_count": 6,
     "metadata": {},
     "output_type": "execute_result"
    }
   ],
   "source": [
    "# What imagery is available?\n",
    "sources = dl.metadata.sources()\n",
    "pprint(sources)\n",
    "\n",
    "[{u'product': u'modis:09:CREFL', u'sat_id': u'Terra'},\n",
    " {u'product': u'modis:09:CREFL', u'sat_id': u'Aqua'},\n",
    " {u'product': u'landsat:LE07:PRE:TOAR', u'sat_id': u'LANDSAT_7'},\n",
    " {u'product': u'landsat:LE07:PRE:TOAR', u'sat_id': u'Landsat7'},\n",
    " {u'product': u'sentinel-2:L1C', u'sat_id': u'S2A'},\n",
    " {u'product': u'landsat:LT05:PRE:TOAR', u'sat_id': u'LANDSAT_5'},\n",
    " {u'product': u'landsat:LT05:PRE:TOAR', u'sat_id': u'Landsat5'},\n",
    " {u'product': u'sentinel-3:OLCI_RGB', u'sat_id': u'S3A'},\n",
    " {u'product': u'landsat:LC08:PRE:TOAR', u'sat_id': u'LANDSAT_8'},\n",
    " {u'product': u'usda:naip:rgbn', u'sat_id': u'NAIP'},\n",
    " {u'product': u'landsat:LC08:PRE:LaSRC', u'sat_id': u'L8SR'},\n",
    " {u'product': u'sentinel-1:GRD', u'sat_id': u'SENTINEL-1A'},\n",
    " {u'product': u'sentinel-1:GRD', u'sat_id': u'SENTINEL-1B'},\n",
    " {u'product': u'srtm:GL1003', u'sat_id': u'srtm'},\n",
    " {u'product': u'landsat:LT04:PRE:TOAR', u'sat_id': u'Landsat4'},\n",
    " {u'product': u'landsat:LT04:PRE:TOAR', u'sat_id': u'LANDSAT_4'},\n",
    " {u'product': u'usda:cdl', u'sat_id': u'CDL'}]\n",
    "\n"
   ]
  },
  {
   "cell_type": "markdown",
   "metadata": {},
   "source": [
    "# Lets find some Landsat 8 imagery over our AOI"
   ]
  },
  {
   "cell_type": "code",
   "execution_count": 21,
   "metadata": {},
   "outputs": [
    {
     "name": "stdout",
     "output_type": "stream",
     "text": [
      "2\n",
      "['landsat:LC08:PRE:TOAR:meta_LC80330342017072_v1', 'landsat:LC08:PRE:TOAR:meta_LC80330352017072_v1']\n",
      "{'geometry': {'coordinates': [\n",
      "  [\n",
      "    [-105.8898318, 38.5103536],\n",
      "    [-103.8445201, 38.1129959],\n",
      "    [-104.3838427, 36.4246539],\n",
      "    [-106.377808, 36.8201224],\n",
      "    ...\n",
      "  ]\n",
      "],\n",
      "              'type': 'Polygon'},\n",
      " 'id': 'landsat:LC08:PRE:TOAR:meta_LC80330342017072_v1',\n",
      " 'key': 'meta_LC80330342017072_v1',\n",
      " 'properties': {'acquired': '2017-03-13T17:37:50.132812Z',\n",
      "                'area': 35462.0,\n",
      "                'bits_per_pixel': [1.463, 1.778, 0.922],\n",
      "                'bright_fraction': 0.1168,\n",
      "                'bucket': 'gs://descartes-l8/',\n",
      "                'cloud_fraction': 0.1907,\n",
      "                'cloud_fraction_0': 0.0643,\n",
      "                'cs_code': 'EPSG:32613',\n",
      "                'descartes_version': 'hedj-landsat-0.9.7.4',\n",
      "                'file_md5s': ['e084f11d78cedb76968959231e598112', 'd8970e1688a8a97e09f9f4eace81edf6'],\n",
      "                'file_sizes': [86541838, 46913535],\n",
      "                'files': ['2017-03-13_033034_L8_432.jp2', '2017-03-13_033034_L8_567_19a.jp2'],\n",
      "                'fill_fraction': 0.6487,\n",
      "                'geolocation_accuracy': 4.245,\n",
      "                'geotrans': [\n",
      "  373192.5,\n",
      "  15.0,\n",
      "  0.0,\n",
      "  4265107.5,\n",
      "  0.0,\n",
      "  -15.0\n",
      "],\n",
      "                'identifier': 'LC80330342017072LGN00.tar.bz',\n",
      "                'key': 'meta_LC80330342017072_v1',\n",
      "                'processed': 1489695759,\n",
      "                'product': 'landsat:LC08:PRE:TOAR',\n",
      "                'projcs': 'WGS 84 / UTM zone 13N',\n",
      "                'published': '2017-03-13T23:47:46Z',\n",
      "                'raster_size': [15440, 15736],\n",
      "                'reflectance_scale': [\n",
      "  0.2182,\n",
      "  0.214,\n",
      "  0.2337,\n",
      "  0.276,\n",
      "  0.4548,\n",
      "  1.8054,\n",
      "  5.5498,\n",
      "  1.1066,\n",
      "  0.245\n",
      "],\n",
      "                'roll_angle': -0.001,\n",
      "                'sat_id': 'LANDSAT_8',\n",
      "                'solar_azimuth_angle': 146.78826655,\n",
      "                'solar_elevation_angle': 44.5586114,\n",
      "                'sw_version': 'LPGS_2.6.3',\n",
      "                'terrain_correction': 'L1T',\n",
      "                'tile_id': '033034'},\n",
      " 'type': 'Feature'}\n"
     ]
    },
    {
     "data": {
      "image/png": "[encoded data removed]",
      "text/plain": [
       "<matplotlib.figure.Figure at 0x7f3359b06c88>"
      ]
     },
     "metadata": {},
     "output_type": "display_data"
    }
   ],
   "source": [
    "import json\n",
    "feature_collection = dl.metadata.search(products='landsat:LC08:PRE:TOAR', start_time='2017-03-12',\n",
    "                                        end_time='2017-03-20', limit=10, place=aoi['slug'])\n",
    "# As the variable name implies, this returns a FeatureCollection GeoJSON dictionary.\n",
    "# Its 'features' are the available scenes.\n",
    "print(len(feature_collection['features']))\n",
    "# The 'id' associated with each feature is a unique identifier into our imagery database.\n",
    "# In this case there are two L8 scenes from adjoining WRS rows.\n",
    "print([f['id'] for f in feature_collection['features']])\n",
    "\n",
    "# Lets look at the first feature. The features are a FeatureCollection,\n",
    "# so if we print it out we get a bunch of information. For example, we see that\n",
    "# the overall cloud fraction is 1.2%.:\n",
    "f0 = feature_collection['features'][0]\n",
    "pprint(f0)\n",
    "\n",
    "# Let's plot the footprints of the scenes:\n",
    "lonlat_crs = cartopy.crs.PlateCarree()\n",
    "albers = cartopy.crs.AlbersEqualArea(central_latitude=36.0, central_longitude=-105)\n",
    "\n",
    "fig = plt.figure(figsize=(6, 8))\n",
    "ax = plt.subplot(projection=albers) # Specify projection of the map here\n",
    "\n",
    "ax.add_geometries([shapely.geometry.shape(shape['geometry'])],\n",
    "                   lonlat_crs)\n",
    "\n",
    "# Get the geometry from each feature\n",
    "shapes = [shapely.geometry.shape(f['geometry']) for\n",
    "          f in feature_collection['features']]\n",
    "\n",
    "ax.add_geometries(shapes, lonlat_crs, alpha=0.3, color='green')\n",
    "\n",
    "# Get a bounding box of the combined scenes\n",
    "union = shapely.geometry.MultiPolygon(polygons=shapes)\n",
    "bbox = union.bounds\n",
    "ax.set_extent((bbox[0], bbox[2], bbox[1], bbox[3]), crs=lonlat_crs)\n",
    "ax.gridlines(crs=lonlat_crs)\n",
    "\n",
    "plt.show()\n"
   ]
  },
  {
   "cell_type": "markdown",
   "metadata": {},
   "source": [
    "# What Bands are Available?"
   ]
  },
  {
   "cell_type": "code",
   "execution_count": 25,
   "metadata": {},
   "outputs": [
    {
     "ename": "AttributeError",
     "evalue": "'Raster' object has no attribute 'get_bands_by_constellation'",
     "output_type": "error",
     "traceback": [
      "\u001b[0;31m---------------------------------------------------------------------------\u001b[0m",
      "\u001b[0;31mAttributeError\u001b[0m                            Traceback (most recent call last)",
      "\u001b[0;32m<ipython-input-25-1f8e3cb5be57>\u001b[0m in \u001b[0;36m<module>\u001b[0;34m()\u001b[0m\n\u001b[0;32m----> 1\u001b[0;31m \u001b[0mband_information\u001b[0m \u001b[0;34m=\u001b[0m \u001b[0mdl\u001b[0m\u001b[0;34m.\u001b[0m\u001b[0mraster\u001b[0m\u001b[0;34m.\u001b[0m\u001b[0mget_bands_by_constellation\u001b[0m\u001b[0;34m(\u001b[0m\u001b[0;34m\"landsat:LC08:PRE:TOAR\"\u001b[0m\u001b[0;34m)\u001b[0m\u001b[0;34m\u001b[0m\u001b[0m\n\u001b[0m\u001b[1;32m      2\u001b[0m \u001b[0;31m# or\u001b[0m\u001b[0;34m\u001b[0m\u001b[0;34m\u001b[0m\u001b[0m\n\u001b[1;32m      3\u001b[0m \u001b[0;31m#band_information = dl.raster.get_bands_by_key(feature_collection['features'][0]['id'])\u001b[0m\u001b[0;34m\u001b[0m\u001b[0;34m\u001b[0m\u001b[0m\n\u001b[1;32m      4\u001b[0m \u001b[0mpprint\u001b[0m\u001b[0;34m(\u001b[0m\u001b[0mband_information\u001b[0m\u001b[0;34m.\u001b[0m\u001b[0mkeys\u001b[0m\u001b[0;34m(\u001b[0m\u001b[0;34m)\u001b[0m\u001b[0;34m)\u001b[0m\u001b[0;34m\u001b[0m\u001b[0m\n\u001b[1;32m      5\u001b[0m \u001b[0;34m\u001b[0m\u001b[0m\n",
      "\u001b[0;31mAttributeError\u001b[0m: 'Raster' object has no attribute 'get_bands_by_constellation'"
     ]
    }
   ],
   "source": [
    "band_information = dl.raster.get_bands_by_constellation(\"landsat:LC08:PRE:TOAR\")\n",
    "# or\n",
    "#band_information = dl.raster.get_bands_by_key(feature_collection['features'][0]['id'])\n",
    "pprint(band_information.keys())\n",
    "\n",
    "# There is metadata associated with each band. In this case, we can tell that the \"red\" band\n",
    "# is stored as a UInt16 dataset, has a valid range of [0, 10000] which maps to [0, 1.0] in\n",
    "# Top-of-atmosphere-reflectance.\n",
    "pprint(band_information['red'])\n"
   ]
  },
  {
   "cell_type": "markdown",
   "metadata": {},
   "source": [
    "# Rasterizing imagery"
   ]
  },
  {
   "cell_type": "code",
   "execution_count": 31,
   "metadata": {},
   "outputs": [
    {
     "ename": "ImportError",
     "evalue": "Please install the numpy package",
     "output_type": "error",
     "traceback": [
      "\u001b[0;31m---------------------------------------------------------------------------\u001b[0m",
      "\u001b[0;31mImportError\u001b[0m                               Traceback (most recent call last)",
      "\u001b[0;32m<ipython-input-31-c6de5c1dc825>\u001b[0m in \u001b[0;36m<module>\u001b[0;34m()\u001b[0m\n\u001b[1;32m     13\u001b[0m     \u001b[0mdata_type\u001b[0m\u001b[0;34m=\u001b[0m\u001b[0;34m'Byte'\u001b[0m\u001b[0;34m,\u001b[0m\u001b[0;34m\u001b[0m\u001b[0m\n\u001b[1;32m     14\u001b[0m     \u001b[0mresolution\u001b[0m\u001b[0;34m=\u001b[0m\u001b[0;36m60\u001b[0m\u001b[0;34m,\u001b[0m\u001b[0;34m\u001b[0m\u001b[0m\n\u001b[0;32m---> 15\u001b[0;31m     \u001b[0mcutline\u001b[0m\u001b[0;34m=\u001b[0m\u001b[0mshape\u001b[0m\u001b[0;34m[\u001b[0m\u001b[0;34m'geometry'\u001b[0m\u001b[0;34m]\u001b[0m\u001b[0;34m,\u001b[0m\u001b[0;34m\u001b[0m\u001b[0m\n\u001b[0m\u001b[1;32m     16\u001b[0m )\n\u001b[1;32m     17\u001b[0m \u001b[0;34m\u001b[0m\u001b[0m\n",
      "\u001b[0;32m/opt/conda/lib/python3.6/site-packages/descarteslabs/client/services/raster/raster.py\u001b[0m in \u001b[0;36mndarray\u001b[0;34m(self, inputs, bands, scales, data_type, srs, resolution, dimensions, cutline, place, bounds, bounds_srs, align_pixels, resampler, order, dltile, **pass_through_params)\u001b[0m\n\u001b[1;32m    487\u001b[0m             \u001b[0mmetadata\u001b[0m \u001b[0;34m=\u001b[0m \u001b[0mjson\u001b[0m\u001b[0;34m.\u001b[0m\u001b[0mloads\u001b[0m\u001b[0;34m(\u001b[0m\u001b[0mr\u001b[0m\u001b[0;34m.\u001b[0m\u001b[0mraw\u001b[0m\u001b[0;34m.\u001b[0m\u001b[0mreadline\u001b[0m\u001b[0;34m(\u001b[0m\u001b[0;34m)\u001b[0m\u001b[0;34m.\u001b[0m\u001b[0mdecode\u001b[0m\u001b[0;34m(\u001b[0m\u001b[0;34m'utf-8'\u001b[0m\u001b[0;34m)\u001b[0m\u001b[0;34m.\u001b[0m\u001b[0mstrip\u001b[0m\u001b[0;34m(\u001b[0m\u001b[0;34m)\u001b[0m\u001b[0;34m)\u001b[0m\u001b[0;34m\u001b[0m\u001b[0m\n\u001b[1;32m    488\u001b[0m             \u001b[0marray_meta\u001b[0m \u001b[0;34m=\u001b[0m \u001b[0mjson\u001b[0m\u001b[0;34m.\u001b[0m\u001b[0mloads\u001b[0m\u001b[0;34m(\u001b[0m\u001b[0mr\u001b[0m\u001b[0;34m.\u001b[0m\u001b[0mraw\u001b[0m\u001b[0;34m.\u001b[0m\u001b[0mreadline\u001b[0m\u001b[0;34m(\u001b[0m\u001b[0;34m)\u001b[0m\u001b[0;34m.\u001b[0m\u001b[0mdecode\u001b[0m\u001b[0;34m(\u001b[0m\u001b[0;34m'utf-8'\u001b[0m\u001b[0;34m)\u001b[0m\u001b[0;34m.\u001b[0m\u001b[0mstrip\u001b[0m\u001b[0;34m(\u001b[0m\u001b[0;34m)\u001b[0m\u001b[0;34m)\u001b[0m\u001b[0;34m\u001b[0m\u001b[0m\n\u001b[0;32m--> 489\u001b[0;31m             \u001b[0marray\u001b[0m \u001b[0;34m=\u001b[0m \u001b[0mread_blosc_array\u001b[0m\u001b[0;34m(\u001b[0m\u001b[0marray_meta\u001b[0m\u001b[0;34m,\u001b[0m \u001b[0mr\u001b[0m\u001b[0;34m.\u001b[0m\u001b[0mraw\u001b[0m\u001b[0;34m)\u001b[0m\u001b[0;34m\u001b[0m\u001b[0m\n\u001b[0m\u001b[1;32m    490\u001b[0m         \u001b[0;32melse\u001b[0m\u001b[0;34m:\u001b[0m\u001b[0;34m\u001b[0m\u001b[0m\n\u001b[1;32m    491\u001b[0m             \u001b[0mnpz\u001b[0m \u001b[0;34m=\u001b[0m \u001b[0mnp\u001b[0m\u001b[0;34m.\u001b[0m\u001b[0mload\u001b[0m\u001b[0;34m(\u001b[0m\u001b[0mBytesIO\u001b[0m\u001b[0;34m(\u001b[0m\u001b[0mr\u001b[0m\u001b[0;34m.\u001b[0m\u001b[0mcontent\u001b[0m\u001b[0;34m)\u001b[0m\u001b[0;34m)\u001b[0m\u001b[0;34m\u001b[0m\u001b[0m\n",
      "\u001b[0;32m/opt/conda/lib/python3.6/site-packages/descarteslabs/client/services/raster/raster.py\u001b[0m in \u001b[0;36mread_blosc_array\u001b[0;34m(metadata, data)\u001b[0m\n\u001b[1;32m     47\u001b[0m \u001b[0;34m\u001b[0m\u001b[0m\n\u001b[1;32m     48\u001b[0m \u001b[0;32mdef\u001b[0m \u001b[0mread_blosc_array\u001b[0m\u001b[0;34m(\u001b[0m\u001b[0mmetadata\u001b[0m\u001b[0;34m,\u001b[0m \u001b[0mdata\u001b[0m\u001b[0;34m)\u001b[0m\u001b[0;34m:\u001b[0m\u001b[0;34m\u001b[0m\u001b[0m\n\u001b[0;32m---> 49\u001b[0;31m     \u001b[0moutput\u001b[0m \u001b[0;34m=\u001b[0m \u001b[0mnp\u001b[0m\u001b[0;34m.\u001b[0m\u001b[0mempty\u001b[0m\u001b[0;34m(\u001b[0m\u001b[0mmetadata\u001b[0m\u001b[0;34m[\u001b[0m\u001b[0;34m'shape'\u001b[0m\u001b[0;34m]\u001b[0m\u001b[0;34m,\u001b[0m \u001b[0mdtype\u001b[0m\u001b[0;34m=\u001b[0m\u001b[0mnp\u001b[0m\u001b[0;34m.\u001b[0m\u001b[0mdtype\u001b[0m\u001b[0;34m(\u001b[0m\u001b[0mmetadata\u001b[0m\u001b[0;34m[\u001b[0m\u001b[0;34m'dtype'\u001b[0m\u001b[0;34m]\u001b[0m\u001b[0;34m)\u001b[0m\u001b[0;34m)\u001b[0m\u001b[0;34m\u001b[0m\u001b[0m\n\u001b[0m\u001b[1;32m     50\u001b[0m     \u001b[0mptr\u001b[0m \u001b[0;34m=\u001b[0m \u001b[0moutput\u001b[0m\u001b[0;34m.\u001b[0m\u001b[0m__array_interface__\u001b[0m\u001b[0;34m[\u001b[0m\u001b[0;34m'data'\u001b[0m\u001b[0;34m]\u001b[0m\u001b[0;34m[\u001b[0m\u001b[0;36m0\u001b[0m\u001b[0;34m]\u001b[0m\u001b[0;34m\u001b[0m\u001b[0m\n\u001b[1;32m     51\u001b[0m \u001b[0;34m\u001b[0m\u001b[0m\n",
      "\u001b[0;32m/opt/conda/lib/python3.6/site-packages/descarteslabs/client/addons.py\u001b[0m in \u001b[0;36m__getattr__\u001b[0;34m(self, name)\u001b[0m\n\u001b[1;32m     21\u001b[0m \u001b[0;34m\u001b[0m\u001b[0m\n\u001b[1;32m     22\u001b[0m     \u001b[0;32mdef\u001b[0m \u001b[0m__getattr__\u001b[0m\u001b[0;34m(\u001b[0m\u001b[0mself\u001b[0m\u001b[0;34m,\u001b[0m \u001b[0mname\u001b[0m\u001b[0;34m)\u001b[0m\u001b[0;34m:\u001b[0m\u001b[0;34m\u001b[0m\u001b[0m\n\u001b[0;32m---> 23\u001b[0;31m         \u001b[0;32mraise\u001b[0m \u001b[0mImportError\u001b[0m\u001b[0;34m(\u001b[0m\u001b[0;34m\"Please install the %s package\"\u001b[0m \u001b[0;34m%\u001b[0m \u001b[0mself\u001b[0m\u001b[0;34m.\u001b[0m\u001b[0m_package\u001b[0m\u001b[0;34m)\u001b[0m\u001b[0;34m\u001b[0m\u001b[0m\n\u001b[0m\u001b[1;32m     24\u001b[0m \u001b[0;34m\u001b[0m\u001b[0m\n\u001b[1;32m     25\u001b[0m     \u001b[0;32mdef\u001b[0m \u001b[0m__dir__\u001b[0m\u001b[0;34m(\u001b[0m\u001b[0mself\u001b[0m\u001b[0;34m)\u001b[0m\u001b[0;34m:\u001b[0m\u001b[0;34m\u001b[0m\u001b[0m\n",
      "\u001b[0;31mImportError\u001b[0m: Please install the numpy package"
     ]
    }
   ],
   "source": [
    "# Collect the id's for each feature\n",
    "ids = [f['id'] for f in feature_collection['features']]\n",
    "# Rasterize the features.\n",
    "#  * Select red, green, blue, alpha\n",
    "#  * Scale the incoming data with range [0, 10000] down to [0, 4000] (40% TOAR)\n",
    "#  * Choose an output type of \"Byte\" (uint8)\n",
    "#  * Choose 60m resolution\n",
    "#  * Apply a cutline of Taos county\n",
    "arr, meta = dl.raster.ndarray(\n",
    "    ids,\n",
    "    bands=['red', 'green', 'blue', 'alpha'],\n",
    "    scales=[[0,4000], [0, 4000], [0, 4000], None],\n",
    "    data_type='Byte',\n",
    "    resolution=60,\n",
    "    cutline=shape['geometry'],\n",
    ")\n",
    "\n",
    "# Note: A value of 1 in the alpha channel signifies where there is valid data.\n",
    "# We use this throughout the majority of our imagery as a standard way of specifying\n",
    "# valid or nodata regions. This is particularly helpful if a value of 0 in a particular\n",
    "# band has meaning, rather than specifying a lack of data.\n"
   ]
  },
  {
   "cell_type": "code",
   "execution_count": 32,
   "metadata": {},
   "outputs": [],
   "source": [
    "# We'll use matplotlib to make a quick plot of the image.\n",
    "import matplotlib.pyplot as plt\n",
    "%matplotlib inline\n"
   ]
  },
  {
   "cell_type": "code",
   "execution_count": 35,
   "metadata": {},
   "outputs": [
    {
     "ename": "ImportError",
     "evalue": "Please install the numpy package",
     "output_type": "error",
     "traceback": [
      "\u001b[0;31m---------------------------------------------------------------------------\u001b[0m",
      "\u001b[0;31mImportError\u001b[0m                               Traceback (most recent call last)",
      "\u001b[0;32m<ipython-input-35-59942c7c4a27>\u001b[0m in \u001b[0;36m<module>\u001b[0;34m()\u001b[0m\n\u001b[1;32m      7\u001b[0m     \u001b[0mcutline\u001b[0m\u001b[0;34m=\u001b[0m\u001b[0mshape\u001b[0m\u001b[0;34m[\u001b[0m\u001b[0;34m'geometry'\u001b[0m\u001b[0;34m]\u001b[0m\u001b[0;34m,\u001b[0m\u001b[0;34m\u001b[0m\u001b[0m\n\u001b[1;32m      8\u001b[0m     \u001b[0mdata_type\u001b[0m\u001b[0;34m=\u001b[0m\u001b[0;34m'Byte'\u001b[0m\u001b[0;34m,\u001b[0m\u001b[0;34m\u001b[0m\u001b[0m\n\u001b[0;32m----> 9\u001b[0;31m     \u001b[0mresolution\u001b[0m\u001b[0;34m=\u001b[0m\u001b[0;36m60\u001b[0m\u001b[0;34m\u001b[0m\u001b[0m\n\u001b[0m\u001b[1;32m     10\u001b[0m )\n\u001b[1;32m     11\u001b[0m \u001b[0mplt\u001b[0m\u001b[0;34m.\u001b[0m\u001b[0mfigure\u001b[0m\u001b[0;34m(\u001b[0m\u001b[0mfigsize\u001b[0m\u001b[0;34m=\u001b[0m\u001b[0;34m[\u001b[0m\u001b[0;36m16\u001b[0m\u001b[0;34m,\u001b[0m\u001b[0;36m16\u001b[0m\u001b[0;34m]\u001b[0m\u001b[0;34m)\u001b[0m\u001b[0;34m\u001b[0m\u001b[0m\n",
      "\u001b[0;32m/opt/conda/lib/python3.6/site-packages/descarteslabs/client/services/raster/raster.py\u001b[0m in \u001b[0;36mndarray\u001b[0;34m(self, inputs, bands, scales, data_type, srs, resolution, dimensions, cutline, place, bounds, bounds_srs, align_pixels, resampler, order, dltile, **pass_through_params)\u001b[0m\n\u001b[1;32m    487\u001b[0m             \u001b[0mmetadata\u001b[0m \u001b[0;34m=\u001b[0m \u001b[0mjson\u001b[0m\u001b[0;34m.\u001b[0m\u001b[0mloads\u001b[0m\u001b[0;34m(\u001b[0m\u001b[0mr\u001b[0m\u001b[0;34m.\u001b[0m\u001b[0mraw\u001b[0m\u001b[0;34m.\u001b[0m\u001b[0mreadline\u001b[0m\u001b[0;34m(\u001b[0m\u001b[0;34m)\u001b[0m\u001b[0;34m.\u001b[0m\u001b[0mdecode\u001b[0m\u001b[0;34m(\u001b[0m\u001b[0;34m'utf-8'\u001b[0m\u001b[0;34m)\u001b[0m\u001b[0;34m.\u001b[0m\u001b[0mstrip\u001b[0m\u001b[0;34m(\u001b[0m\u001b[0;34m)\u001b[0m\u001b[0;34m)\u001b[0m\u001b[0;34m\u001b[0m\u001b[0m\n\u001b[1;32m    488\u001b[0m             \u001b[0marray_meta\u001b[0m \u001b[0;34m=\u001b[0m \u001b[0mjson\u001b[0m\u001b[0;34m.\u001b[0m\u001b[0mloads\u001b[0m\u001b[0;34m(\u001b[0m\u001b[0mr\u001b[0m\u001b[0;34m.\u001b[0m\u001b[0mraw\u001b[0m\u001b[0;34m.\u001b[0m\u001b[0mreadline\u001b[0m\u001b[0;34m(\u001b[0m\u001b[0;34m)\u001b[0m\u001b[0;34m.\u001b[0m\u001b[0mdecode\u001b[0m\u001b[0;34m(\u001b[0m\u001b[0;34m'utf-8'\u001b[0m\u001b[0;34m)\u001b[0m\u001b[0;34m.\u001b[0m\u001b[0mstrip\u001b[0m\u001b[0;34m(\u001b[0m\u001b[0;34m)\u001b[0m\u001b[0;34m)\u001b[0m\u001b[0;34m\u001b[0m\u001b[0m\n\u001b[0;32m--> 489\u001b[0;31m             \u001b[0marray\u001b[0m \u001b[0;34m=\u001b[0m \u001b[0mread_blosc_array\u001b[0m\u001b[0;34m(\u001b[0m\u001b[0marray_meta\u001b[0m\u001b[0;34m,\u001b[0m \u001b[0mr\u001b[0m\u001b[0;34m.\u001b[0m\u001b[0mraw\u001b[0m\u001b[0;34m)\u001b[0m\u001b[0;34m\u001b[0m\u001b[0m\n\u001b[0m\u001b[1;32m    490\u001b[0m         \u001b[0;32melse\u001b[0m\u001b[0;34m:\u001b[0m\u001b[0;34m\u001b[0m\u001b[0m\n\u001b[1;32m    491\u001b[0m             \u001b[0mnpz\u001b[0m \u001b[0;34m=\u001b[0m \u001b[0mnp\u001b[0m\u001b[0;34m.\u001b[0m\u001b[0mload\u001b[0m\u001b[0;34m(\u001b[0m\u001b[0mBytesIO\u001b[0m\u001b[0;34m(\u001b[0m\u001b[0mr\u001b[0m\u001b[0;34m.\u001b[0m\u001b[0mcontent\u001b[0m\u001b[0;34m)\u001b[0m\u001b[0;34m)\u001b[0m\u001b[0;34m\u001b[0m\u001b[0m\n",
      "\u001b[0;32m/opt/conda/lib/python3.6/site-packages/descarteslabs/client/services/raster/raster.py\u001b[0m in \u001b[0;36mread_blosc_array\u001b[0;34m(metadata, data)\u001b[0m\n\u001b[1;32m     47\u001b[0m \u001b[0;34m\u001b[0m\u001b[0m\n\u001b[1;32m     48\u001b[0m \u001b[0;32mdef\u001b[0m \u001b[0mread_blosc_array\u001b[0m\u001b[0;34m(\u001b[0m\u001b[0mmetadata\u001b[0m\u001b[0;34m,\u001b[0m \u001b[0mdata\u001b[0m\u001b[0;34m)\u001b[0m\u001b[0;34m:\u001b[0m\u001b[0;34m\u001b[0m\u001b[0m\n\u001b[0;32m---> 49\u001b[0;31m     \u001b[0moutput\u001b[0m \u001b[0;34m=\u001b[0m \u001b[0mnp\u001b[0m\u001b[0;34m.\u001b[0m\u001b[0mempty\u001b[0m\u001b[0;34m(\u001b[0m\u001b[0mmetadata\u001b[0m\u001b[0;34m[\u001b[0m\u001b[0;34m'shape'\u001b[0m\u001b[0;34m]\u001b[0m\u001b[0;34m,\u001b[0m \u001b[0mdtype\u001b[0m\u001b[0;34m=\u001b[0m\u001b[0mnp\u001b[0m\u001b[0;34m.\u001b[0m\u001b[0mdtype\u001b[0m\u001b[0;34m(\u001b[0m\u001b[0mmetadata\u001b[0m\u001b[0;34m[\u001b[0m\u001b[0;34m'dtype'\u001b[0m\u001b[0;34m]\u001b[0m\u001b[0;34m)\u001b[0m\u001b[0;34m)\u001b[0m\u001b[0;34m\u001b[0m\u001b[0m\n\u001b[0m\u001b[1;32m     50\u001b[0m     \u001b[0mptr\u001b[0m \u001b[0;34m=\u001b[0m \u001b[0moutput\u001b[0m\u001b[0;34m.\u001b[0m\u001b[0m__array_interface__\u001b[0m\u001b[0;34m[\u001b[0m\u001b[0;34m'data'\u001b[0m\u001b[0;34m]\u001b[0m\u001b[0;34m[\u001b[0m\u001b[0;36m0\u001b[0m\u001b[0;34m]\u001b[0m\u001b[0;34m\u001b[0m\u001b[0m\n\u001b[1;32m     51\u001b[0m \u001b[0;34m\u001b[0m\u001b[0m\n",
      "\u001b[0;32m/opt/conda/lib/python3.6/site-packages/descarteslabs/client/addons.py\u001b[0m in \u001b[0;36m__getattr__\u001b[0;34m(self, name)\u001b[0m\n\u001b[1;32m     21\u001b[0m \u001b[0;34m\u001b[0m\u001b[0m\n\u001b[1;32m     22\u001b[0m     \u001b[0;32mdef\u001b[0m \u001b[0m__getattr__\u001b[0m\u001b[0;34m(\u001b[0m\u001b[0mself\u001b[0m\u001b[0;34m,\u001b[0m \u001b[0mname\u001b[0m\u001b[0;34m)\u001b[0m\u001b[0;34m:\u001b[0m\u001b[0;34m\u001b[0m\u001b[0m\n\u001b[0;32m---> 23\u001b[0;31m         \u001b[0;32mraise\u001b[0m \u001b[0mImportError\u001b[0m\u001b[0;34m(\u001b[0m\u001b[0;34m\"Please install the %s package\"\u001b[0m \u001b[0;34m%\u001b[0m \u001b[0mself\u001b[0m\u001b[0;34m.\u001b[0m\u001b[0m_package\u001b[0m\u001b[0;34m)\u001b[0m\u001b[0;34m\u001b[0m\u001b[0m\n\u001b[0m\u001b[1;32m     24\u001b[0m \u001b[0;34m\u001b[0m\u001b[0m\n\u001b[1;32m     25\u001b[0m     \u001b[0;32mdef\u001b[0m \u001b[0m__dir__\u001b[0m\u001b[0;34m(\u001b[0m\u001b[0mself\u001b[0m\u001b[0;34m)\u001b[0m\u001b[0;34m:\u001b[0m\u001b[0;34m\u001b[0m\u001b[0m\n",
      "\u001b[0;31mImportError\u001b[0m: Please install the numpy package"
     ]
    }
   ],
   "source": [
    "# We can choose other false color band combinations, like\n",
    "# NIR - SWIR1 - SWIR2\n",
    "arr, meta = dl.raster.ndarray(\n",
    "    ids,\n",
    "    bands=['nir', 'swir1', 'swir2', 'alpha'],\n",
    "    scales=[[0,4000], [0, 4000], [0, 4000], None],\n",
    "    cutline=shape['geometry'],\n",
    "    data_type='Byte',\n",
    "    resolution=60\n",
    ")\n",
    "plt.figure(figsize=[16,16])\n",
    "plt.imshow(arr)\n"
   ]
  },
  {
   "cell_type": "code",
   "execution_count": 36,
   "metadata": {},
   "outputs": [
    {
     "ename": "SyntaxError",
     "evalue": "invalid syntax (<ipython-input-36-a8f59cefe4a6>, line 7)",
     "output_type": "error",
     "traceback": [
      "\u001b[0;36m  File \u001b[0;32m\"<ipython-input-36-a8f59cefe4a6>\"\u001b[0;36m, line \u001b[0;32m7\u001b[0m\n\u001b[0;31m    print \"%s maps to %s\" % (valid_range, physical_range)\u001b[0m\n\u001b[0m                        ^\u001b[0m\n\u001b[0;31mSyntaxError\u001b[0m\u001b[0;31m:\u001b[0m invalid syntax\n"
     ]
    }
   ],
   "source": [
    "# Or even derived bands like NDVI. Here the alpha channel comes in\n",
    "# particularly useful as a way to select valid data. Here you may want to use\n",
    "# some of the band information to scale NDVI properly.\n",
    "\n",
    "valid_range = band_information['ndvi']['valid_range']\n",
    "physical_range = band_information['ndvi']['physical_range']\n",
    "print \"%s maps to %s\" % (valid_range, physical_range)\n",
    "arr, meta = dl.raster.ndarray(\n",
    "    [f['id'] for f in feature_collection['features']],\n",
    "    bands=['ndvi', 'alpha'],\n",
    "    scales=[[valid_range[0], valid_range[1], physical_range[0], physical_range[1]], None],\n",
    "    cutline=shape['geometry'],\n",
    "    data_type='Float32',\n",
    "    resolution=60\n",
    ")\n"
   ]
  },
  {
   "cell_type": "code",
   "execution_count": 37,
   "metadata": {},
   "outputs": [
    {
     "ename": "SyntaxError",
     "evalue": "invalid syntax (<ipython-input-37-7769e90fd74a>, line 1)",
     "output_type": "error",
     "traceback": [
      "\u001b[0;36m  File \u001b[0;32m\"<ipython-input-37-7769e90fd74a>\"\u001b[0;36m, line \u001b[0;32m1\u001b[0m\n\u001b[0;31m    [0, 65535] maps to [-1.0, 1.0]\u001b[0m\n\u001b[0m                  ^\u001b[0m\n\u001b[0;31mSyntaxError\u001b[0m\u001b[0;31m:\u001b[0m invalid syntax\n"
     ]
    }
   ],
   "source": [
    "[0, 65535] maps to [-1.0, 1.0]\n"
   ]
  },
  {
   "cell_type": "code",
   "execution_count": 38,
   "metadata": {},
   "outputs": [
    {
     "ename": "NameError",
     "evalue": "name 'arr' is not defined",
     "output_type": "error",
     "traceback": [
      "\u001b[0;31m---------------------------------------------------------------------------\u001b[0m",
      "\u001b[0;31mNameError\u001b[0m                                 Traceback (most recent call last)",
      "\u001b[0;32m<ipython-input-38-7138b675b2a7>\u001b[0m in \u001b[0;36m<module>\u001b[0;34m()\u001b[0m\n\u001b[1;32m      1\u001b[0m \u001b[0;31m# Here we can make a numpy masked array using alpha == 0 as a nodata mask.\u001b[0m\u001b[0;34m\u001b[0m\u001b[0;34m\u001b[0m\u001b[0m\n\u001b[1;32m      2\u001b[0m \u001b[0;32mimport\u001b[0m \u001b[0mnumpy\u001b[0m \u001b[0;32mas\u001b[0m \u001b[0mnp\u001b[0m\u001b[0;34m\u001b[0m\u001b[0m\n\u001b[0;32m----> 3\u001b[0;31m \u001b[0mmask\u001b[0m \u001b[0;34m=\u001b[0m \u001b[0marr\u001b[0m\u001b[0;34m[\u001b[0m\u001b[0;34m:\u001b[0m\u001b[0;34m,\u001b[0m \u001b[0;34m:\u001b[0m\u001b[0;34m,\u001b[0m \u001b[0;36m1\u001b[0m\u001b[0;34m]\u001b[0m \u001b[0;34m==\u001b[0m \u001b[0;36m0\u001b[0m\u001b[0;34m\u001b[0m\u001b[0m\n\u001b[0m\u001b[1;32m      4\u001b[0m \u001b[0mmasked_ndvi\u001b[0m \u001b[0;34m=\u001b[0m \u001b[0mnp\u001b[0m\u001b[0;34m.\u001b[0m\u001b[0mma\u001b[0m\u001b[0;34m.\u001b[0m\u001b[0mmasked_array\u001b[0m\u001b[0;34m(\u001b[0m\u001b[0marr\u001b[0m\u001b[0;34m[\u001b[0m\u001b[0;34m:\u001b[0m\u001b[0;34m,\u001b[0m \u001b[0;34m:\u001b[0m\u001b[0;34m,\u001b[0m \u001b[0;36m0\u001b[0m\u001b[0;34m]\u001b[0m\u001b[0;34m,\u001b[0m \u001b[0mmask\u001b[0m\u001b[0;34m)\u001b[0m\u001b[0;34m\u001b[0m\u001b[0m\n\u001b[1;32m      5\u001b[0m \u001b[0mplt\u001b[0m\u001b[0;34m.\u001b[0m\u001b[0mfigure\u001b[0m\u001b[0;34m(\u001b[0m\u001b[0mfigsize\u001b[0m\u001b[0;34m=\u001b[0m\u001b[0;34m[\u001b[0m\u001b[0;36m16\u001b[0m\u001b[0;34m,\u001b[0m\u001b[0;36m16\u001b[0m\u001b[0;34m]\u001b[0m\u001b[0;34m)\u001b[0m\u001b[0;34m\u001b[0m\u001b[0m\n",
      "\u001b[0;31mNameError\u001b[0m: name 'arr' is not defined"
     ]
    }
   ],
   "source": [
    "# Here we can make a numpy masked array using alpha == 0 as a nodata mask.\n",
    "import numpy as np\n",
    "mask = arr[:, :, 1] == 0\n",
    "masked_ndvi = np.ma.masked_array(arr[:, :, 0], mask)\n",
    "plt.figure(figsize=[16,16])\n",
    "plt.imshow(masked_ndvi, cmap='BrBG', vmin=0, vmax=0.5)\n",
    "cb = plt.colorbar()\n",
    "cb.set_label(\"NDVI\")\n"
   ]
  },
  {
   "cell_type": "code",
   "execution_count": null,
   "metadata": {},
   "outputs": [],
   "source": []
  }
 ],
 "metadata": {
  "kernelspec": {
   "display_name": "Python 3",
   "language": "python",
   "name": "python3"
  },
  "language_info": {
   "codemirror_mode": {
    "name": "ipython",
    "version": 3
   },
   "file_extension": ".py",
   "mimetype": "text/x-python",
   "name": "python",
   "nbconvert_exporter": "python",
   "pygments_lexer": "ipython3",
   "version": "3.6.5"
  }
 },
 "nbformat": 4,
 "nbformat_minor": 2
}
